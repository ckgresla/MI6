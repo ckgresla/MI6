{
 "cells": [
  {
   "cell_type": "markdown",
   "metadata": {},
   "source": [
    "# testbook\n",
    "\n",
    "misc testing of functions"
   ]
  },
  {
   "cell_type": "code",
   "execution_count": 1,
   "metadata": {},
   "outputs": [
    {
     "name": "stdout",
     "output_type": "stream",
     "text": [
      "\u001b[45mtesting\u001b[0m\n"
     ]
    }
   ],
   "source": [
    "from core import reports\n",
    "\n",
    "s = \"testing\"\n",
    "s = reports.colorize(s, \"magenta\", highlight=True)\n",
    "print(s) #can print in color!\n"
   ]
  },
  {
   "cell_type": "code",
   "execution_count": 7,
   "metadata": {},
   "outputs": [
    {
     "name": "stdout",
     "output_type": "stream",
     "text": [
      "\u001b[31mwhy hello there\u001b[0m\n",
      "why hello there\n",
      "\u001b[32mwhy hello there\u001b[0m\n",
      "\u001b[34mwhy hello there\u001b[0m\n"
     ]
    }
   ],
   "source": [
    "\n",
    "reports.cp(\"why hello there\", \"red\")\n",
    "reports.cp(\"why hello there\") #black default color\n",
    "reports.cp(\"why hello there\", \"green\")\n",
    "reports.cp(\"why hello there\", \"blue\")\n"
   ]
  },
  {
   "cell_type": "code",
   "execution_count": 5,
   "metadata": {},
   "outputs": [
    {
     "name": "stdout",
     "output_type": "stream",
     "text": [
      "\u001b[31mwow\u001b[0m\n"
     ]
    }
   ],
   "source": [
    "from core.reports import cp as cp\n",
    "\n",
    "\n",
    "cp(\"wow\", \"red\")\n"
   ]
  },
  {
   "cell_type": "code",
   "execution_count": 3,
   "metadata": {},
   "outputs": [
    {
     "name": "stdout",
     "output_type": "stream",
     "text": [
      "Track generation: 956..1206 -> 250-tiles track\n"
     ]
    },
    {
     "name": "stderr",
     "output_type": "stream",
     "text": [
      "2022-09-23 07:46:01.726 python[89568:2832545] Warning: Expected min height of view: (<NSPopoverTouchBarItemButton: 0x7fe2a6a12bb0>) to be less than or equal to 30 but got a height of 32.000000. This error will be logged once per view in violation.\n",
      "2022-09-23 07:46:01.727 python[89568:2832545] Warning: Expected min height of view: (<NSButton: 0x7fe2a45856c0>) to be less than or equal to 30 but got a height of 32.000000. This error will be logged once per view in violation.\n",
      "2022-09-23 07:46:01.731 python[89568:2832545] Warning: Expected min height of view: (<NSPopoverTouchBarItemButton: 0x7fe2a4589030>) to be less than or equal to 30 but got a height of 32.000000. This error will be logged once per view in violation.\n",
      "2022-09-23 07:46:01.733 python[89568:2832545] Warning: Expected min height of view: (<NSPopoverTouchBarItemButton: 0x7fe2a45930e0>) to be less than or equal to 30 but got a height of 32.000000. This error will be logged once per view in violation.\n"
     ]
    },
    {
     "ename": "",
     "evalue": "",
     "output_type": "error",
     "traceback": [
      "\u001b[1;31mThe Kernel crashed while executing code in the the current cell or a previous cell. Please review the code in the cell(s) to identify a possible cause of the failure. Click <a href='https://aka.ms/vscodeJupyterKernelCrash'>here</a> for more info. View Jupyter <a href='command:jupyter.viewOutput'>log</a> for further details."
     ]
    }
   ],
   "source": [
    "# Peep the car racing env (may need do a \"python -m pip install gym\\[box2d\\]\" on ZSH if box2d envs from Gym not installed in current environment)\n",
    "import gym\n",
    "\n",
    "env = gym.make(\"CarRacing-v0\")\n",
    "env.reset()\n",
    "\n",
    "for i in range(100):\n",
    "    env.render()"
   ]
  },
  {
   "cell_type": "code",
   "execution_count": 6,
   "metadata": {},
   "outputs": [
    {
     "name": "stdout",
     "output_type": "stream",
     "text": [
      "5\n",
      "3\n",
      "1\n"
     ]
    }
   ],
   "source": [
    "# Indexing list of Tuples \n",
    "\n",
    "data = [(1, 2), (3, 4), (5, 6)]\n",
    "\n",
    "for i, j in data[::-1]:\n",
    "    print(i)"
   ]
  },
  {
   "cell_type": "code",
   "execution_count": 18,
   "metadata": {},
   "outputs": [
    {
     "name": "stdout",
     "output_type": "stream",
     "text": [
      "9\n",
      "7\n",
      "5\n",
      "3\n",
      "1\n"
     ]
    }
   ],
   "source": [
    "d = [0, 1, 2, 3, 4, 5, 6, 7, 8, 9]\n",
    "\n",
    "\n",
    "# Basically [::] syntax does indexing of an iterable like: [start_index : stop_index : iter_size/direction] \n",
    "#(last element is step size and direction, like reverse order or regular order of iteration)\n",
    "for i in d[::-2]:\n",
    "    print(i)"
   ]
  },
  {
   "cell_type": "markdown",
   "metadata": {},
   "source": [
    "# Testing Loading in Agent Weights"
   ]
  },
  {
   "cell_type": "code",
   "execution_count": 2,
   "metadata": {},
   "outputs": [
    {
     "name": "stderr",
     "output_type": "stream",
     "text": [
      "2022-10-12 15:35:32.614 python[42909:1813177] Warning: Expected min height of view: (<NSPopoverTouchBarItemButton: 0x7f89bb58d300>) to be less than or equal to 30 but got a height of 32.000000. This error will be logged once per view in violation.\n",
      "2022-10-12 15:35:32.616 python[42909:1813177] Warning: Expected min height of view: (<NSButton: 0x7f89bb5e2000>) to be less than or equal to 30 but got a height of 32.000000. This error will be logged once per view in violation.\n",
      "2022-10-12 15:35:32.623 python[42909:1813177] Warning: Expected min height of view: (<NSPopoverTouchBarItemButton: 0x7f89bb5e4cf0>) to be less than or equal to 30 but got a height of 32.000000. This error will be logged once per view in violation.\n",
      "2022-10-12 15:35:32.627 python[42909:1813177] Warning: Expected min height of view: (<NSPopoverTouchBarItemButton: 0x7f89bd4644d0>) to be less than or equal to 30 but got a height of 32.000000. This error will be logged once per view in violation.\n"
     ]
    },
    {
     "name": "stdout",
     "output_type": "stream",
     "text": [
      "Reward for Sequence 0: 13.0\n",
      "Reward for Sequence 1: 15.0\n",
      "Reward for Sequence 2: 29.0\n",
      "Reward for Sequence 3: 10.0\n",
      "Reward for Sequence 4: 38.0\n",
      "Reward for Sequence 5: 10.0\n",
      "Reward for Sequence 6: 11.0\n",
      "Reward for Sequence 7: 19.0\n",
      "Reward for Sequence 8: 16.0\n",
      "Reward for Sequence 9: 14.0\n"
     ]
    }
   ],
   "source": [
    "import gym\n",
    "import torch\n",
    "from algorithms import VPG\n",
    "from algorithms.REINFORCE import *\n",
    "\n",
    "\n",
    "# Params for Testing\n",
    "test_sequences = 10\n",
    "render_env = True\n",
    "\n",
    "\n",
    "# Instantiate Modules for inference\n",
    "pi = VPG.PolicyNetwork(learning_rate=0.0002, gamma=0.99, lmbda=0.92)\n",
    "vf = VPG.ValueNetwork()\n",
    "\n",
    "pi = REINFORCE()\n",
    "\n",
    "# Load in Weights\n",
    "# checkpoint = torch.load(\"agents/vpg-test-100-39.0.pt\")\n",
    "# checkpoint = torch.load(\"agents/vpg-test-3500-500.0.pt\")\n",
    "checkpoint = torch.load(\"agents/REINFORCE-test-95000.pt\")\n",
    "pi.load_state_dict(checkpoint['model_state_dict'])\n",
    "\n",
    "# vpg = VPG.VPG(pi, vf)\n",
    "\n",
    "\n",
    "# Test Saved Agent in Env\n",
    "env = gym.make(\"CartPole-v1\")\n",
    "\n",
    "for tst in range(test_sequences):\n",
    "    s = env.reset()\n",
    "    tst_reward =  0.0\n",
    "    done = False\n",
    "\n",
    "    while not done:\n",
    "        if render_env:\n",
    "            env.render() #human vis\n",
    "\n",
    "        # Get Action from Logits (after forward pass w Policy Network)\n",
    "        obs = torch.from_numpy(s).float() #convert state given from Env into torch vec for passing to network (observation)\n",
    "        # logits = vpg.pi(obs) #forward pass, computes action logits with Policy Network\n",
    "        logits = pi(obs)\n",
    "        # print(f\"logits {logits}\\n  for obs {obs}\")\n",
    "        action, prob_a = VPG.sd_sampler(logits) #sample action (int) and get corresponding probabilties (from stochastic dist.)\n",
    "\n",
    "        # Value Function Reward Estimate\n",
    "        # vf_estimate = vpg.vf(obs)\n",
    "\n",
    "        # Interaction Step w Environment (say at; timestep t)\n",
    "        state_t_1, reward_t, done, info = env.step(action) #recieve next state (t+1) and reward for taken action (reward at timestep t)\n",
    "\n",
    "        tst_reward += reward_t\n",
    "    print(f\"Reward for Sequence {tst}: {tst_reward}\")\n",
    "env.close()"
   ]
  },
  {
   "cell_type": "code",
   "execution_count": null,
   "metadata": {},
   "outputs": [],
   "source": []
  },
  {
   "cell_type": "code",
   "execution_count": null,
   "metadata": {},
   "outputs": [],
   "source": []
  }
 ],
 "metadata": {
  "kernelspec": {
   "display_name": "Python 3.9.7 ('ML-Agents-Env')",
   "language": "python",
   "name": "python3"
  },
  "language_info": {
   "codemirror_mode": {
    "name": "ipython",
    "version": 3
   },
   "file_extension": ".py",
   "mimetype": "text/x-python",
   "name": "python",
   "nbconvert_exporter": "python",
   "pygments_lexer": "ipython3",
   "version": "3.9.7"
  },
  "orig_nbformat": 4,
  "vscode": {
   "interpreter": {
    "hash": "3e30affdbb71e1e1a8b613bbaee9555d4e617202131987db9888c70b2d6aa14e"
   }
  }
 },
 "nbformat": 4,
 "nbformat_minor": 2
}
