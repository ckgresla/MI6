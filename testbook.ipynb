{
 "cells": [
  {
   "cell_type": "markdown",
   "metadata": {},
   "source": [
    "# testbook\n",
    "\n",
    "misc testing of functions"
   ]
  },
  {
   "cell_type": "code",
   "execution_count": 1,
   "metadata": {},
   "outputs": [
    {
     "name": "stdout",
     "output_type": "stream",
     "text": [
      "\u001b[45mtesting\u001b[0m\n"
     ]
    }
   ],
   "source": [
    "from core import reports\n",
    "\n",
    "s = \"testing\"\n",
    "s = reports.colorize(s, \"magenta\", highlight=True)\n",
    "print(s) #can print in color!\n"
   ]
  },
  {
   "cell_type": "code",
   "execution_count": 7,
   "metadata": {},
   "outputs": [
    {
     "name": "stdout",
     "output_type": "stream",
     "text": [
      "\u001b[31mwhy hello there\u001b[0m\n",
      "why hello there\n",
      "\u001b[32mwhy hello there\u001b[0m\n",
      "\u001b[34mwhy hello there\u001b[0m\n"
     ]
    }
   ],
   "source": [
    "\n",
    "reports.cp(\"why hello there\", \"red\")\n",
    "reports.cp(\"why hello there\") #black default color\n",
    "reports.cp(\"why hello there\", \"green\")\n",
    "reports.cp(\"why hello there\", \"blue\")\n"
   ]
  },
  {
   "cell_type": "code",
   "execution_count": 5,
   "metadata": {},
   "outputs": [
    {
     "name": "stdout",
     "output_type": "stream",
     "text": [
      "\u001b[31mwow\u001b[0m\n"
     ]
    }
   ],
   "source": [
    "from core.reports import cp as cp\n",
    "\n",
    "\n",
    "cp(\"wow\", \"red\")\n"
   ]
  },
  {
   "cell_type": "code",
   "execution_count": 3,
   "metadata": {},
   "outputs": [
    {
     "name": "stdout",
     "output_type": "stream",
     "text": [
      "Track generation: 956..1206 -> 250-tiles track\n"
     ]
    },
    {
     "name": "stderr",
     "output_type": "stream",
     "text": [
      "2022-09-23 07:46:01.726 python[89568:2832545] Warning: Expected min height of view: (<NSPopoverTouchBarItemButton: 0x7fe2a6a12bb0>) to be less than or equal to 30 but got a height of 32.000000. This error will be logged once per view in violation.\n",
      "2022-09-23 07:46:01.727 python[89568:2832545] Warning: Expected min height of view: (<NSButton: 0x7fe2a45856c0>) to be less than or equal to 30 but got a height of 32.000000. This error will be logged once per view in violation.\n",
      "2022-09-23 07:46:01.731 python[89568:2832545] Warning: Expected min height of view: (<NSPopoverTouchBarItemButton: 0x7fe2a4589030>) to be less than or equal to 30 but got a height of 32.000000. This error will be logged once per view in violation.\n",
      "2022-09-23 07:46:01.733 python[89568:2832545] Warning: Expected min height of view: (<NSPopoverTouchBarItemButton: 0x7fe2a45930e0>) to be less than or equal to 30 but got a height of 32.000000. This error will be logged once per view in violation.\n"
     ]
    },
    {
     "ename": "",
     "evalue": "",
     "output_type": "error",
     "traceback": [
      "\u001b[1;31mThe Kernel crashed while executing code in the the current cell or a previous cell. Please review the code in the cell(s) to identify a possible cause of the failure. Click <a href='https://aka.ms/vscodeJupyterKernelCrash'>here</a> for more info. View Jupyter <a href='command:jupyter.viewOutput'>log</a> for further details."
     ]
    }
   ],
   "source": [
    "# Peep the car racing env (may need do a \"python -m pip install gym\\[box2d\\]\" on ZSH if box2d envs from Gym not installed in current environment)\n",
    "import gym\n",
    "\n",
    "env = gym.make(\"CarRacing-v0\")\n",
    "env.reset()\n",
    "\n",
    "for i in range(100):\n",
    "    env.render()"
   ]
  },
  {
   "cell_type": "code",
   "execution_count": 6,
   "metadata": {},
   "outputs": [
    {
     "name": "stdout",
     "output_type": "stream",
     "text": [
      "5\n",
      "3\n",
      "1\n"
     ]
    }
   ],
   "source": [
    "# Indexing list of Tuples \n",
    "\n",
    "data = [(1, 2), (3, 4), (5, 6)]\n",
    "\n",
    "for i, j in data[::-1]:\n",
    "    print(i)"
   ]
  },
  {
   "cell_type": "code",
   "execution_count": 18,
   "metadata": {},
   "outputs": [
    {
     "name": "stdout",
     "output_type": "stream",
     "text": [
      "9\n",
      "7\n",
      "5\n",
      "3\n",
      "1\n"
     ]
    }
   ],
   "source": [
    "d = [0, 1, 2, 3, 4, 5, 6, 7, 8, 9]\n",
    "\n",
    "\n",
    "# Basically [::] syntax does indexing of an iterable like: [start_index : stop_index : iter_size/direction] \n",
    "#(last element is step size and direction, like reverse order or regular order of iteration)\n",
    "for i in d[::-2]:\n",
    "    print(i)"
   ]
  },
  {
   "cell_type": "code",
   "execution_count": null,
   "metadata": {},
   "outputs": [],
   "source": []
  }
 ],
 "metadata": {
  "kernelspec": {
   "display_name": "Python 3.9.7 ('rl')",
   "language": "python",
   "name": "python3"
  },
  "language_info": {
   "codemirror_mode": {
    "name": "ipython",
    "version": 3
   },
   "file_extension": ".py",
   "mimetype": "text/x-python",
   "name": "python",
   "nbconvert_exporter": "python",
   "pygments_lexer": "ipython3",
   "version": "3.9.7"
  },
  "orig_nbformat": 4,
  "vscode": {
   "interpreter": {
    "hash": "fe0f39a7643b8c26eb8df9d35589b1c968b8c0c2b64d55f87555dd275090f7b4"
   }
  }
 },
 "nbformat": 4,
 "nbformat_minor": 2
}
